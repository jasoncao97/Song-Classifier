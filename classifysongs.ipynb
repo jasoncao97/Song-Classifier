{
 "cells": [
  {
   "attachments": {},
   "cell_type": "markdown",
   "metadata": {},
   "source": [
    "CLASSIFY SONG GENRES FROM AUDIO DATA"
   ]
  },
  {
   "attachments": {},
   "cell_type": "markdown",
   "metadata": {},
   "source": [
    "Streaming services have taken over the music industry over the past few years. The extensive amount of music provided through these streaming services allow users to access their favourite music but it can also be overwhelming when trying to discover new songs.\n",
    "\n",
    "Today, we will be examining data compiled by a research group known as The Echo Nest to categorize music to allow for personalized recommendations.\n",
    "Our goal is to look through this dataset and classify songs as being either 'Hip-Hop' or 'Rock' - all without listening to a single one ourselves. \n",
    "\n",
    "In doing so, we will have to clean our data, do some exploratory data visualization, and use feature reduction towards the goal of feeding our data through some simple machine learning algorithms, such as decision trees and logistic regression."
   ]
  },
  {
   "attachments": {},
   "cell_type": "markdown",
   "metadata": {},
   "source": [
    "1. Preparing Our Dataset"
   ]
  },
  {
   "attachments": {},
   "cell_type": "markdown",
   "metadata": {},
   "source": [
    "Let's load the data about our tracks alongside the track metrics compiled by The Echo Nest."
   ]
  },
  {
   "cell_type": "code",
   "execution_count": 92,
   "metadata": {},
   "outputs": [
    {
     "name": "stdout",
     "output_type": "stream",
     "text": [
      "<class 'pandas.core.frame.DataFrame'>\n",
      "Int64Index: 4802 entries, 0 to 4801\n",
      "Data columns (total 10 columns):\n",
      " #   Column            Non-Null Count  Dtype  \n",
      "---  ------            --------------  -----  \n",
      " 0   track_id          4802 non-null   int64  \n",
      " 1   acousticness      4802 non-null   float64\n",
      " 2   danceability      4802 non-null   float64\n",
      " 3   energy            4802 non-null   float64\n",
      " 4   instrumentalness  4802 non-null   float64\n",
      " 5   liveness          4802 non-null   float64\n",
      " 6   speechiness       4802 non-null   float64\n",
      " 7   tempo             4802 non-null   float64\n",
      " 8   valence           4802 non-null   float64\n",
      " 9   genre_top         4802 non-null   object \n",
      "dtypes: float64(8), int64(1), object(1)\n",
      "memory usage: 412.7+ KB\n",
      "None\n"
     ]
    }
   ],
   "source": [
    "import pandas as pd \n",
    "\n",
    "tracks = pd.read_csv('./fma-rock-vs-hiphop.csv')\n",
    "echonest_metrics = pd.read_json('./echonest-metrics.json', precise_float=True)\n",
    "\n",
    "# Merge the relevant columns of tracks and echonest_metrics\n",
    "echo_tracks = pd.merge(echonest_metrics, tracks[['track_id', 'genre_top']], on='track_id')\n",
    "\n",
    "print(echo_tracks.info())"
   ]
  },
  {
   "attachments": {},
   "cell_type": "markdown",
   "metadata": {},
   "source": [
    "2. Pairwise Relationships Between Continuous Variables"
   ]
  },
  {
   "attachments": {},
   "cell_type": "markdown",
   "metadata": {},
   "source": [
    "To avoid feature redundancy, we want to find any strongly correlated features in our data and avoid these variables by using the built-in functions in the pandas package."
   ]
  },
  {
   "cell_type": "code",
   "execution_count": 93,
   "metadata": {},
   "outputs": [
    {
     "data": {
      "text/html": [
       "<style type=\"text/css\">\n",
       "#T_dc899_row0_col0, #T_dc899_row1_col1, #T_dc899_row2_col2, #T_dc899_row3_col3, #T_dc899_row4_col4, #T_dc899_row5_col5, #T_dc899_row6_col6, #T_dc899_row7_col7, #T_dc899_row8_col8 {\n",
       "  background-color: #023858;\n",
       "  color: #f1f1f1;\n",
       "}\n",
       "#T_dc899_row0_col1, #T_dc899_row1_col0, #T_dc899_row1_col3, #T_dc899_row2_col5, #T_dc899_row2_col7, #T_dc899_row4_col2, #T_dc899_row4_col6, #T_dc899_row4_col8, #T_dc899_row6_col4 {\n",
       "  background-color: #fff7fb;\n",
       "  color: #000000;\n",
       "}\n",
       "#T_dc899_row0_col2 {\n",
       "  background-color: #d2d2e7;\n",
       "  color: #000000;\n",
       "}\n",
       "#T_dc899_row0_col3 {\n",
       "  background-color: #b5c4df;\n",
       "  color: #000000;\n",
       "}\n",
       "#T_dc899_row0_col4 {\n",
       "  background-color: #f5eef6;\n",
       "  color: #000000;\n",
       "}\n",
       "#T_dc899_row0_col5 {\n",
       "  background-color: #e9e5f1;\n",
       "  color: #000000;\n",
       "}\n",
       "#T_dc899_row0_col6, #T_dc899_row8_col3 {\n",
       "  background-color: #d1d2e6;\n",
       "  color: #000000;\n",
       "}\n",
       "#T_dc899_row0_col7, #T_dc899_row1_col7 {\n",
       "  background-color: #e1dfed;\n",
       "  color: #000000;\n",
       "}\n",
       "#T_dc899_row0_col8, #T_dc899_row3_col6 {\n",
       "  background-color: #dedcec;\n",
       "  color: #000000;\n",
       "}\n",
       "#T_dc899_row1_col2 {\n",
       "  background-color: #e0dded;\n",
       "  color: #000000;\n",
       "}\n",
       "#T_dc899_row1_col4, #T_dc899_row4_col1 {\n",
       "  background-color: #97b7d7;\n",
       "  color: #000000;\n",
       "}\n",
       "#T_dc899_row1_col5, #T_dc899_row2_col4 {\n",
       "  background-color: #f3edf5;\n",
       "  color: #000000;\n",
       "}\n",
       "#T_dc899_row1_col6, #T_dc899_row6_col1 {\n",
       "  background-color: #b8c6e0;\n",
       "  color: #000000;\n",
       "}\n",
       "#T_dc899_row1_col8 {\n",
       "  background-color: #e2dfee;\n",
       "  color: #000000;\n",
       "}\n",
       "#T_dc899_row2_col0, #T_dc899_row5_col0, #T_dc899_row5_col3 {\n",
       "  background-color: #bdc8e1;\n",
       "  color: #000000;\n",
       "}\n",
       "#T_dc899_row2_col1, #T_dc899_row6_col0, #T_dc899_row7_col0, #T_dc899_row7_col1 {\n",
       "  background-color: #d0d1e6;\n",
       "  color: #000000;\n",
       "}\n",
       "#T_dc899_row2_col3 {\n",
       "  background-color: #fbf3f9;\n",
       "  color: #000000;\n",
       "}\n",
       "#T_dc899_row2_col6 {\n",
       "  background-color: #80aed2;\n",
       "  color: #f1f1f1;\n",
       "}\n",
       "#T_dc899_row2_col8 {\n",
       "  background-color: #529bc7;\n",
       "  color: #f1f1f1;\n",
       "}\n",
       "#T_dc899_row3_col0, #T_dc899_row7_col3 {\n",
       "  background-color: #a7bddb;\n",
       "  color: #000000;\n",
       "}\n",
       "#T_dc899_row3_col1 {\n",
       "  background-color: #f5eff6;\n",
       "  color: #000000;\n",
       "}\n",
       "#T_dc899_row3_col2, #T_dc899_row7_col2 {\n",
       "  background-color: #fef6fa;\n",
       "  color: #000000;\n",
       "}\n",
       "#T_dc899_row3_col4 {\n",
       "  background-color: #c4cbe3;\n",
       "  color: #000000;\n",
       "}\n",
       "#T_dc899_row3_col5, #T_dc899_row5_col7 {\n",
       "  background-color: #dcdaeb;\n",
       "  color: #000000;\n",
       "}\n",
       "#T_dc899_row3_col7 {\n",
       "  background-color: #adc1dd;\n",
       "  color: #000000;\n",
       "}\n",
       "#T_dc899_row3_col8, #T_dc899_row4_col7 {\n",
       "  background-color: #d9d8ea;\n",
       "  color: #000000;\n",
       "}\n",
       "#T_dc899_row4_col0 {\n",
       "  background-color: #f4eef6;\n",
       "  color: #000000;\n",
       "}\n",
       "#T_dc899_row4_col3 {\n",
       "  background-color: #d2d3e7;\n",
       "  color: #000000;\n",
       "}\n",
       "#T_dc899_row4_col5 {\n",
       "  background-color: #fdf5fa;\n",
       "  color: #000000;\n",
       "}\n",
       "#T_dc899_row5_col1 {\n",
       "  background-color: #ced0e6;\n",
       "  color: #000000;\n",
       "}\n",
       "#T_dc899_row5_col2 {\n",
       "  background-color: #ede8f3;\n",
       "  color: #000000;\n",
       "}\n",
       "#T_dc899_row5_col4, #T_dc899_row6_col7 {\n",
       "  background-color: #dbdaeb;\n",
       "  color: #000000;\n",
       "}\n",
       "#T_dc899_row5_col6 {\n",
       "  background-color: #c0c9e2;\n",
       "  color: #000000;\n",
       "}\n",
       "#T_dc899_row5_col8 {\n",
       "  background-color: #e8e4f0;\n",
       "  color: #000000;\n",
       "}\n",
       "#T_dc899_row6_col2 {\n",
       "  background-color: #93b5d6;\n",
       "  color: #000000;\n",
       "}\n",
       "#T_dc899_row6_col3, #T_dc899_row6_col5 {\n",
       "  background-color: #eae6f1;\n",
       "  color: #000000;\n",
       "}\n",
       "#T_dc899_row6_col8 {\n",
       "  background-color: #bfc9e1;\n",
       "  color: #000000;\n",
       "}\n",
       "#T_dc899_row7_col4 {\n",
       "  background-color: #c5cce3;\n",
       "  color: #000000;\n",
       "}\n",
       "#T_dc899_row7_col5 {\n",
       "  background-color: #f0eaf4;\n",
       "  color: #000000;\n",
       "}\n",
       "#T_dc899_row7_col6 {\n",
       "  background-color: #c8cde4;\n",
       "  color: #000000;\n",
       "}\n",
       "#T_dc899_row7_col8 {\n",
       "  background-color: #d6d6e9;\n",
       "  color: #000000;\n",
       "}\n",
       "#T_dc899_row8_col0 {\n",
       "  background-color: #c6cce3;\n",
       "  color: #000000;\n",
       "}\n",
       "#T_dc899_row8_col1 {\n",
       "  background-color: #cdd0e5;\n",
       "  color: #000000;\n",
       "}\n",
       "#T_dc899_row8_col2 {\n",
       "  background-color: #4c99c5;\n",
       "  color: #f1f1f1;\n",
       "}\n",
       "#T_dc899_row8_col4 {\n",
       "  background-color: #efe9f3;\n",
       "  color: #000000;\n",
       "}\n",
       "#T_dc899_row8_col5 {\n",
       "  background-color: #f7f0f7;\n",
       "  color: #000000;\n",
       "}\n",
       "#T_dc899_row8_col6 {\n",
       "  background-color: #a5bddb;\n",
       "  color: #000000;\n",
       "}\n",
       "#T_dc899_row8_col7 {\n",
       "  background-color: #d3d4e7;\n",
       "  color: #000000;\n",
       "}\n",
       "</style>\n",
       "<table id=\"T_dc899_\">\n",
       "  <thead>\n",
       "    <tr>\n",
       "      <th class=\"blank level0\" >&nbsp;</th>\n",
       "      <th class=\"col_heading level0 col0\" >track_id</th>\n",
       "      <th class=\"col_heading level0 col1\" >acousticness</th>\n",
       "      <th class=\"col_heading level0 col2\" >danceability</th>\n",
       "      <th class=\"col_heading level0 col3\" >energy</th>\n",
       "      <th class=\"col_heading level0 col4\" >instrumentalness</th>\n",
       "      <th class=\"col_heading level0 col5\" >liveness</th>\n",
       "      <th class=\"col_heading level0 col6\" >speechiness</th>\n",
       "      <th class=\"col_heading level0 col7\" >tempo</th>\n",
       "      <th class=\"col_heading level0 col8\" >valence</th>\n",
       "    </tr>\n",
       "  </thead>\n",
       "  <tbody>\n",
       "    <tr>\n",
       "      <th id=\"T_dc899_level0_row0\" class=\"row_heading level0 row0\" >track_id</th>\n",
       "      <td id=\"T_dc899_row0_col0\" class=\"data row0 col0\" >1.000000</td>\n",
       "      <td id=\"T_dc899_row0_col1\" class=\"data row0 col1\" >-0.372282</td>\n",
       "      <td id=\"T_dc899_row0_col2\" class=\"data row0 col2\" >0.049454</td>\n",
       "      <td id=\"T_dc899_row0_col3\" class=\"data row0 col3\" >0.140703</td>\n",
       "      <td id=\"T_dc899_row0_col4\" class=\"data row0 col4\" >-0.275623</td>\n",
       "      <td id=\"T_dc899_row0_col5\" class=\"data row0 col5\" >0.048231</td>\n",
       "      <td id=\"T_dc899_row0_col6\" class=\"data row0 col6\" >-0.026995</td>\n",
       "      <td id=\"T_dc899_row0_col7\" class=\"data row0 col7\" >-0.025392</td>\n",
       "      <td id=\"T_dc899_row0_col8\" class=\"data row0 col8\" >0.010070</td>\n",
       "    </tr>\n",
       "    <tr>\n",
       "      <th id=\"T_dc899_level0_row1\" class=\"row_heading level0 row1\" >acousticness</th>\n",
       "      <td id=\"T_dc899_row1_col0\" class=\"data row1 col0\" >-0.372282</td>\n",
       "      <td id=\"T_dc899_row1_col1\" class=\"data row1 col1\" >1.000000</td>\n",
       "      <td id=\"T_dc899_row1_col2\" class=\"data row1 col2\" >-0.028954</td>\n",
       "      <td id=\"T_dc899_row1_col3\" class=\"data row1 col3\" >-0.281619</td>\n",
       "      <td id=\"T_dc899_row1_col4\" class=\"data row1 col4\" >0.194780</td>\n",
       "      <td id=\"T_dc899_row1_col5\" class=\"data row1 col5\" >-0.019991</td>\n",
       "      <td id=\"T_dc899_row1_col6\" class=\"data row1 col6\" >0.072204</td>\n",
       "      <td id=\"T_dc899_row1_col7\" class=\"data row1 col7\" >-0.026310</td>\n",
       "      <td id=\"T_dc899_row1_col8\" class=\"data row1 col8\" >-0.013841</td>\n",
       "    </tr>\n",
       "    <tr>\n",
       "      <th id=\"T_dc899_level0_row2\" class=\"row_heading level0 row2\" >danceability</th>\n",
       "      <td id=\"T_dc899_row2_col0\" class=\"data row2 col0\" >0.049454</td>\n",
       "      <td id=\"T_dc899_row2_col1\" class=\"data row2 col1\" >-0.028954</td>\n",
       "      <td id=\"T_dc899_row2_col2\" class=\"data row2 col2\" >1.000000</td>\n",
       "      <td id=\"T_dc899_row2_col3\" class=\"data row2 col3\" >-0.242032</td>\n",
       "      <td id=\"T_dc899_row2_col4\" class=\"data row2 col4\" >-0.255217</td>\n",
       "      <td id=\"T_dc899_row2_col5\" class=\"data row2 col5\" >-0.106584</td>\n",
       "      <td id=\"T_dc899_row2_col6\" class=\"data row2 col6\" >0.276206</td>\n",
       "      <td id=\"T_dc899_row2_col7\" class=\"data row2 col7\" >-0.242089</td>\n",
       "      <td id=\"T_dc899_row2_col8\" class=\"data row2 col8\" >0.473165</td>\n",
       "    </tr>\n",
       "    <tr>\n",
       "      <th id=\"T_dc899_level0_row3\" class=\"row_heading level0 row3\" >energy</th>\n",
       "      <td id=\"T_dc899_row3_col0\" class=\"data row3 col0\" >0.140703</td>\n",
       "      <td id=\"T_dc899_row3_col1\" class=\"data row3 col1\" >-0.281619</td>\n",
       "      <td id=\"T_dc899_row3_col2\" class=\"data row3 col2\" >-0.242032</td>\n",
       "      <td id=\"T_dc899_row3_col3\" class=\"data row3 col3\" >1.000000</td>\n",
       "      <td id=\"T_dc899_row3_col4\" class=\"data row3 col4\" >0.028238</td>\n",
       "      <td id=\"T_dc899_row3_col5\" class=\"data row3 col5\" >0.113331</td>\n",
       "      <td id=\"T_dc899_row3_col6\" class=\"data row3 col6\" >-0.109983</td>\n",
       "      <td id=\"T_dc899_row3_col7\" class=\"data row3 col7\" >0.195227</td>\n",
       "      <td id=\"T_dc899_row3_col8\" class=\"data row3 col8\" >0.038603</td>\n",
       "    </tr>\n",
       "    <tr>\n",
       "      <th id=\"T_dc899_level0_row4\" class=\"row_heading level0 row4\" >instrumentalness</th>\n",
       "      <td id=\"T_dc899_row4_col0\" class=\"data row4 col0\" >-0.275623</td>\n",
       "      <td id=\"T_dc899_row4_col1\" class=\"data row4 col1\" >0.194780</td>\n",
       "      <td id=\"T_dc899_row4_col2\" class=\"data row4 col2\" >-0.255217</td>\n",
       "      <td id=\"T_dc899_row4_col3\" class=\"data row4 col3\" >0.028238</td>\n",
       "      <td id=\"T_dc899_row4_col4\" class=\"data row4 col4\" >1.000000</td>\n",
       "      <td id=\"T_dc899_row4_col5\" class=\"data row4 col5\" >-0.091022</td>\n",
       "      <td id=\"T_dc899_row4_col6\" class=\"data row4 col6\" >-0.366762</td>\n",
       "      <td id=\"T_dc899_row4_col7\" class=\"data row4 col7\" >0.022215</td>\n",
       "      <td id=\"T_dc899_row4_col8\" class=\"data row4 col8\" >-0.219967</td>\n",
       "    </tr>\n",
       "    <tr>\n",
       "      <th id=\"T_dc899_level0_row5\" class=\"row_heading level0 row5\" >liveness</th>\n",
       "      <td id=\"T_dc899_row5_col0\" class=\"data row5 col0\" >0.048231</td>\n",
       "      <td id=\"T_dc899_row5_col1\" class=\"data row5 col1\" >-0.019991</td>\n",
       "      <td id=\"T_dc899_row5_col2\" class=\"data row5 col2\" >-0.106584</td>\n",
       "      <td id=\"T_dc899_row5_col3\" class=\"data row5 col3\" >0.113331</td>\n",
       "      <td id=\"T_dc899_row5_col4\" class=\"data row5 col4\" >-0.091022</td>\n",
       "      <td id=\"T_dc899_row5_col5\" class=\"data row5 col5\" >1.000000</td>\n",
       "      <td id=\"T_dc899_row5_col6\" class=\"data row5 col6\" >0.041173</td>\n",
       "      <td id=\"T_dc899_row5_col7\" class=\"data row5 col7\" >0.002732</td>\n",
       "      <td id=\"T_dc899_row5_col8\" class=\"data row5 col8\" >-0.045093</td>\n",
       "    </tr>\n",
       "    <tr>\n",
       "      <th id=\"T_dc899_level0_row6\" class=\"row_heading level0 row6\" >speechiness</th>\n",
       "      <td id=\"T_dc899_row6_col0\" class=\"data row6 col0\" >-0.026995</td>\n",
       "      <td id=\"T_dc899_row6_col1\" class=\"data row6 col1\" >0.072204</td>\n",
       "      <td id=\"T_dc899_row6_col2\" class=\"data row6 col2\" >0.276206</td>\n",
       "      <td id=\"T_dc899_row6_col3\" class=\"data row6 col3\" >-0.109983</td>\n",
       "      <td id=\"T_dc899_row6_col4\" class=\"data row6 col4\" >-0.366762</td>\n",
       "      <td id=\"T_dc899_row6_col5\" class=\"data row6 col5\" >0.041173</td>\n",
       "      <td id=\"T_dc899_row6_col6\" class=\"data row6 col6\" >1.000000</td>\n",
       "      <td id=\"T_dc899_row6_col7\" class=\"data row6 col7\" >0.008241</td>\n",
       "      <td id=\"T_dc899_row6_col8\" class=\"data row6 col8\" >0.149894</td>\n",
       "    </tr>\n",
       "    <tr>\n",
       "      <th id=\"T_dc899_level0_row7\" class=\"row_heading level0 row7\" >tempo</th>\n",
       "      <td id=\"T_dc899_row7_col0\" class=\"data row7 col0\" >-0.025392</td>\n",
       "      <td id=\"T_dc899_row7_col1\" class=\"data row7 col1\" >-0.026310</td>\n",
       "      <td id=\"T_dc899_row7_col2\" class=\"data row7 col2\" >-0.242089</td>\n",
       "      <td id=\"T_dc899_row7_col3\" class=\"data row7 col3\" >0.195227</td>\n",
       "      <td id=\"T_dc899_row7_col4\" class=\"data row7 col4\" >0.022215</td>\n",
       "      <td id=\"T_dc899_row7_col5\" class=\"data row7 col5\" >0.002732</td>\n",
       "      <td id=\"T_dc899_row7_col6\" class=\"data row7 col6\" >0.008241</td>\n",
       "      <td id=\"T_dc899_row7_col7\" class=\"data row7 col7\" >1.000000</td>\n",
       "      <td id=\"T_dc899_row7_col8\" class=\"data row7 col8\" >0.052221</td>\n",
       "    </tr>\n",
       "    <tr>\n",
       "      <th id=\"T_dc899_level0_row8\" class=\"row_heading level0 row8\" >valence</th>\n",
       "      <td id=\"T_dc899_row8_col0\" class=\"data row8 col0\" >0.010070</td>\n",
       "      <td id=\"T_dc899_row8_col1\" class=\"data row8 col1\" >-0.013841</td>\n",
       "      <td id=\"T_dc899_row8_col2\" class=\"data row8 col2\" >0.473165</td>\n",
       "      <td id=\"T_dc899_row8_col3\" class=\"data row8 col3\" >0.038603</td>\n",
       "      <td id=\"T_dc899_row8_col4\" class=\"data row8 col4\" >-0.219967</td>\n",
       "      <td id=\"T_dc899_row8_col5\" class=\"data row8 col5\" >-0.045093</td>\n",
       "      <td id=\"T_dc899_row8_col6\" class=\"data row8 col6\" >0.149894</td>\n",
       "      <td id=\"T_dc899_row8_col7\" class=\"data row8 col7\" >0.052221</td>\n",
       "      <td id=\"T_dc899_row8_col8\" class=\"data row8 col8\" >1.000000</td>\n",
       "    </tr>\n",
       "  </tbody>\n",
       "</table>\n"
      ],
      "text/plain": [
       "<pandas.io.formats.style.Styler at 0x1488141d0>"
      ]
     },
     "execution_count": 93,
     "metadata": {},
     "output_type": "execute_result"
    }
   ],
   "source": [
    "corr_metrics = echo_tracks.corr()\n",
    "corr_metrics.style.background_gradient()"
   ]
  },
  {
   "attachments": {},
   "cell_type": "markdown",
   "metadata": {},
   "source": [
    "3. Normalizing The Feature Data"
   ]
  },
  {
   "attachments": {},
   "cell_type": "markdown",
   "metadata": {},
   "source": [
    "Since no variables had a strong correlation with the highest r value being less than 0.5, we can proceed with reducing the number of features through a popular approach called principal component analysis (PCA). However, we first have to normalize the data through standardization to avoid biases. "
   ]
  },
  {
   "cell_type": "code",
   "execution_count": 94,
   "metadata": {},
   "outputs": [
    {
     "name": "stdout",
     "output_type": "stream",
     "text": [
      "[[-0.19121034  1.30442004  0.03831594 ...  0.37303429  1.15397908\n",
      "   0.46228696]\n",
      " [-0.30603598  0.50188641  0.78817624 ...  2.44615517  0.00791367\n",
      "  -0.69081137]\n",
      " [-1.20481276  1.68413943  0.31285194 ...  0.13513049 -0.77731688\n",
      "   0.63107745]\n",
      " ...\n",
      " [-1.29470431  1.17682795  0.13265633 ...  0.85182206 -0.93541008\n",
      "  -0.07941825]\n",
      " [-1.13869115 -0.02253433  0.57117905 ...  1.40951543  1.31301348\n",
      "   0.47513794]\n",
      " [-0.90611434  1.10148973  0.56322452 ...  1.36030881 -1.43669053\n",
      "   0.76217464]]\n"
     ]
    }
   ],
   "source": [
    "from sklearn.preprocessing import StandardScaler\n",
    "\n",
    "features = echo_tracks.drop(['track_id', 'genre_top'], axis = 1)\n",
    "labels = echo_tracks['genre_top']\n",
    "\n",
    "scaler = StandardScaler()\n",
    "scaled_train_features = scaler.fit_transform(features)\n",
    "\n",
    "print(scaled_train_features)\n"
   ]
  },
  {
   "attachments": {},
   "cell_type": "markdown",
   "metadata": {},
   "source": [
    "4. Principal Component Analysis On Our Scaled Data"
   ]
  },
  {
   "attachments": {},
   "cell_type": "markdown",
   "metadata": {},
   "source": [
    "We can now use PCA to reduce the number of variables in our dataset while preserving as much information as possible. We can visualize this through a Scree-Plot and a Cumulative Explained Variance Plot."
   ]
  },
  {
   "cell_type": "code",
   "execution_count": 95,
   "metadata": {},
   "outputs": [
    {
     "name": "stdout",
     "output_type": "stream",
     "text": [
      "[0.24297674 0.18044316 0.13650309 0.12994089 0.11056248 0.08302245\n",
      " 0.06923783 0.04731336]\n"
     ]
    },
    {
     "data": {
      "text/plain": [
       "Text(0.5, 0, 'Component Number')"
      ]
     },
     "execution_count": 95,
     "metadata": {},
     "output_type": "execute_result"
    },
    {
     "data": {
      "image/png": "[encoded data removed]",
      "text/plain": [
       "<Figure size 640x480 with 1 Axes>"
      ]
     },
     "metadata": {},
     "output_type": "display_data"
    }
   ],
   "source": [
    "from sklearn.decomposition import PCA\n",
    "import matplotlib.pyplot as plt\n",
    "\n",
    "pca = PCA()\n",
    "pca.fit(scaled_train_features)\n",
    "\n",
    "exp_variance = pca.explained_variance_ratio_\n",
    "print(exp_variance)\n",
    "\n",
    "fig, ax = plt.subplots()\n",
    "ax.bar(range(pca.n_components_), exp_variance)\n",
    "ax.set_xlabel('Component Number')"
   ]
  },
  {
   "attachments": {},
   "cell_type": "markdown",
   "metadata": {},
   "source": [
    "Scree-Plots help us show which components explain a sufficient amount of variance in our data. An appropriate cutoff is typically denoted with a steep drop from one data point to another. Since a steep dropoff does not occur in our plot above, we will proceed with visualizing a Cumulative Explained Variance Plot. \n",
    "\n",
    "This plot will determine how many features explain (our arbitrary value of) 90% of the variance. We can use this cutoff to determine the appropriate number of components that we will preserve and use in our PCA."
   ]
  },
  {
   "cell_type": "code",
   "execution_count": 96,
   "metadata": {},
   "outputs": [
    {
     "data": {
      "image/png": "[encoded data removed]",
      "text/plain": [
       "<Figure size 640x480 with 1 Axes>"
      ]
     },
     "metadata": {},
     "output_type": "display_data"
    }
   ],
   "source": [
    "import numpy as np\n",
    "\n",
    "cum_exp_variance = np.cumsum(exp_variance)\n",
    "\n",
    "fig, ax = plt.subplots()\n",
    "ax.plot(cum_exp_variance)\n",
    "ax.axhline(y=0.9, linestyle = '--')\n",
    "\n",
    "# 6 components make up about 90% of our variance \n",
    "n_components = 6\n",
    "\n",
    "pca = PCA(n_components, random_state=10)\n",
    "pca.fit(scaled_train_features)\n",
    "pca_projection = pca.transform(scaled_train_features)\n"
   ]
  },
  {
   "attachments": {},
   "cell_type": "markdown",
   "metadata": {},
   "source": [
    "5. Train A Decision Tree To Classify Genre\n"
   ]
  },
  {
   "attachments": {},
   "cell_type": "markdown",
   "metadata": {},
   "source": [
    "We can now classify songs into genres using our PCA projection of the data through a Decision Tree. We will split our dataset into 'train' and 'test' subsets where the former will be used to train our model while the latter subset will evaluate the performance of our model.   "
   ]
  },
  {
   "cell_type": "code",
   "execution_count": 97,
   "metadata": {},
   "outputs": [
    {
     "data": {
      "text/plain": [
       "0.8434637801831807"
      ]
     },
     "execution_count": 97,
     "metadata": {},
     "output_type": "execute_result"
    }
   ],
   "source": [
    "from sklearn.model_selection import train_test_split\n",
    "from sklearn.tree import DecisionTreeClassifier\n",
    "\n",
    "train_features, test_features, train_labels, test_labels = train_test_split(pca_projection, labels, random_state=10)\n",
    "\n",
    "tree = DecisionTreeClassifier(random_state=10)\n",
    "tree.fit(train_features, train_labels)\n",
    "\n",
    "pred_labels_tree = tree.predict(test_features)\n",
    "tree.score(test_features, test_labels)\n"
   ]
  },
  {
   "attachments": {},
   "cell_type": "markdown",
   "metadata": {},
   "source": [
    "6. Comparing Our Decision Tree"
   ]
  },
  {
   "attachments": {},
   "cell_type": "markdown",
   "metadata": {},
   "source": [
    "Let's compare the results from our decision tree to another model. We will apply Logistic Regression to our dataset to predict an outcome by analyzing all of our features. We will then compare our two models on various performance metrics. "
   ]
  },
  {
   "cell_type": "code",
   "execution_count": 98,
   "metadata": {},
   "outputs": [
    {
     "name": "stdout",
     "output_type": "stream",
     "text": [
      "Decision Tree: \n",
      "               precision    recall  f1-score   support\n",
      "\n",
      "     Hip-Hop       0.60      0.60      0.60       235\n",
      "        Rock       0.90      0.90      0.90       966\n",
      "\n",
      "    accuracy                           0.84      1201\n",
      "   macro avg       0.75      0.75      0.75      1201\n",
      "weighted avg       0.84      0.84      0.84      1201\n",
      "\n",
      "Logistic Regression: \n",
      "               precision    recall  f1-score   support\n",
      "\n",
      "     Hip-Hop       0.77      0.54      0.64       235\n",
      "        Rock       0.90      0.96      0.93       966\n",
      "\n",
      "    accuracy                           0.88      1201\n",
      "   macro avg       0.83      0.75      0.78      1201\n",
      "weighted avg       0.87      0.88      0.87      1201\n",
      "\n"
     ]
    }
   ],
   "source": [
    "from sklearn.linear_model import LogisticRegression\n",
    "from sklearn.metrics import classification_report\n",
    "\n",
    "logreg = LogisticRegression(random_state=10)\n",
    "logreg.fit(train_features, train_labels)\n",
    "pred_labels_logit = logreg.predict(test_features)\n",
    "\n",
    "logreg.score(test_features, test_labels)\n",
    "\n",
    "class_rep_tree = classification_report(test_labels, pred_labels_tree)\n",
    "class_rep_log = classification_report(test_labels, pred_labels_logit)\n",
    "\n",
    "print('Decision Tree: \\n', class_rep_tree)\n",
    "print('Logistic Regression: \\n', class_rep_log)"
   ]
  },
  {
   "attachments": {},
   "cell_type": "markdown",
   "metadata": {},
   "source": [
    "7. Balancing Our Data"
   ]
  },
  {
   "attachments": {},
   "cell_type": "markdown",
   "metadata": {},
   "source": [
    "The results above show that both models produce similar outcomes. Furthermore, we notice that Rock songs are classified accurately, however, Hip-Hop songs are misclassified at a high rate. "
   ]
  },
  {
   "cell_type": "code",
   "execution_count": 99,
   "metadata": {},
   "outputs": [
    {
     "name": "stdout",
     "output_type": "stream",
     "text": [
      "3892\n",
      "910\n"
     ]
    }
   ],
   "source": [
    "print((echo_tracks['genre_top']=='Rock').sum())\n",
    "print((echo_tracks['genre_top']=='Hip-Hop').sum())"
   ]
  },
  {
   "attachments": {},
   "cell_type": "markdown",
   "metadata": {},
   "source": [
    "By looking at our dataset, we see that we have almost 4 times the amount of Rock than Hip-Hop songs. This shows that our model's accuracy could be driven by it's ability to classify rock songs. \n",
    "\n",
    "We will balance our dataset by weighing the value of a correct classification in each class, with the need to only account for differences in the sample size of our data points and look to see if this improves model bias."
   ]
  },
  {
   "cell_type": "code",
   "execution_count": 119,
   "metadata": {},
   "outputs": [
    {
     "name": "stdout",
     "output_type": "stream",
     "text": [
      "Decision Tree: \n",
      "               precision    recall  f1-score   support\n",
      "\n",
      "     Hip-Hop       0.74      0.73      0.74       230\n",
      "        Rock       0.73      0.74      0.73       225\n",
      "\n",
      "    accuracy                           0.74       455\n",
      "   macro avg       0.74      0.74      0.74       455\n",
      "weighted avg       0.74      0.74      0.74       455\n",
      "\n",
      "Logistic Regression: \n",
      "               precision    recall  f1-score   support\n",
      "\n",
      "     Hip-Hop       0.84      0.80      0.82       230\n",
      "        Rock       0.80      0.85      0.83       225\n",
      "\n",
      "    accuracy                           0.82       455\n",
      "   macro avg       0.82      0.82      0.82       455\n",
      "weighted avg       0.82      0.82      0.82       455\n",
      "\n"
     ]
    }
   ],
   "source": [
    "hip_only = echo_tracks[echo_tracks['genre_top']=='Hip-Hop']\n",
    "rock_only = echo_tracks[echo_tracks['genre_top']=='Rock']\n",
    "\n",
    "rock_only = rock_only.sample(len(hip_only), random_state=10)\n",
    "\n",
    "rock_hip_bal = pd.concat([rock_only, hip_only])\n",
    "\n",
    "features = rock_hip_bal.drop(['genre_top', 'track_id'], axis=1)\n",
    "labels = rock_hip_bal['genre_top']\n",
    "pca_projection = pca.fit_transform(scaler.fit_transform(features))\n",
    "\n",
    "train_features, test_features, train_labels, test_labels = train_test_split(pca_projection, labels, random_state=10)\n",
    "\n",
    "tree = DecisionTreeClassifier(random_state=10)\n",
    "tree.fit(train_features, train_labels)\n",
    "pred_labels_tree = tree.predict(test_features)\n",
    "\n",
    "logreg = LogisticRegression(random_state=10)\n",
    "logreg.fit(train_features, train_labels)\n",
    "pred_labels_logit = logreg.predict(test_features)\n",
    "\n",
    "print('Decision Tree: \\n', classification_report(test_labels, pred_labels_tree))\n",
    "print('Logistic Regression: \\n', classification_report(test_labels, pred_labels_logit))"
   ]
  },
  {
   "attachments": {},
   "cell_type": "markdown",
   "metadata": {},
   "source": [
    "We can see that the overall model performs slightly worse than before, however, the classifications between Hip-Hop and Rock songs are more balanced."
   ]
  },
  {
   "attachments": {},
   "cell_type": "markdown",
   "metadata": {},
   "source": [
    "8. Evaluating Our Models Using Cross Validation "
   ]
  },
  {
   "attachments": {},
   "cell_type": "markdown",
   "metadata": {},
   "source": [
    "We can apply Cross Validation (CV) to further compare our models and get a good sense of how they are performing. CV will attempt to split our data multiple ways and test our model on each split. Specifically, we will be using K-Fold Cross Validation. \n",
    "\n",
    "We will then aggregate the results from each fold to produce a final model performance score. "
   ]
  },
  {
   "cell_type": "code",
   "execution_count": 131,
   "metadata": {},
   "outputs": [
    {
     "name": "stdout",
     "output_type": "stream",
     "text": [
      "Decision Tree: \n",
      " [0.76923077 0.79120879 0.77472527 0.75824176 0.75274725 0.75824176\n",
      " 0.79120879 0.7967033  0.74175824 0.78571429]\n",
      "Logistic Regression: \n",
      " [0.78021978 0.83516484 0.84615385 0.82417582 0.84065934 0.75274725\n",
      " 0.85164835 0.80769231 0.82417582 0.86813187]\n"
     ]
    }
   ],
   "source": [
    "from sklearn.model_selection import KFold, cross_val_score\n",
    "\n",
    "kf = KFold(10, random_state=10, shuffle=True)\n",
    "\n",
    "tree= DecisionTreeClassifier(random_state=10)\n",
    "logreg = LogisticRegression(random_state=10)\n",
    "\n",
    "tree_score = cross_val_score(tree, pca_projection, labels, cv=kf)\n",
    "logit_score = cross_val_score(logreg, pca_projection, labels, cv=kf)\n",
    "\n",
    "print(\"Decision Tree: \\n\", tree_score)\n",
    "print(\"Logistic Regression: \\n\", logit_score)"
   ]
  }
 ],
 "metadata": {
  "kernelspec": {
   "display_name": "Python 3",
   "language": "python",
   "name": "python3"
  },
  "language_info": {
   "codemirror_mode": {
    "name": "ipython",
    "version": 3
   },
   "file_extension": ".py",
   "mimetype": "text/x-python",
   "name": "python",
   "nbconvert_exporter": "python",
   "pygments_lexer": "ipython3",
   "version": "3.7.7"
  },
  "orig_nbformat": 4,
  "vscode": {
   "interpreter": {
    "hash": "aee8b7b246df8f9039afb4144a1f6fd8d2ca17a180786b69acc140d282b71a49"
   }
  }
 },
 "nbformat": 4,
 "nbformat_minor": 2
}
